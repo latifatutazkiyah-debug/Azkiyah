{
  "nbformat": 4,
  "nbformat_minor": 0,
  "metadata": {
    "colab": {
      "provenance": [],
      "authorship_tag": "ABX9TyPJxFfEyJMsxyRS5AUe+/a2",
      "include_colab_link": true
    },
    "kernelspec": {
      "name": "python3",
      "display_name": "Python 3"
    },
    "language_info": {
      "name": "python"
    }
  },
  "cells": [
    {
      "cell_type": "markdown",
      "metadata": {
        "id": "view-in-github",
        "colab_type": "text"
      },
      "source": [
        "<a href=\"https://colab.research.google.com/github/latifatutazkiyah-debug/Azkiyah/blob/main/1_FUNGSI_print_latifatut_tazkiyyah'amali10.ipynb\" target=\"_parent\"><img src=\"https://colab.research.google.com/assets/colab-badge.svg\" alt=\"Open In Colab\"/></a>"
      ]
    },
    {
      "cell_type": "code",
      "execution_count": null,
      "metadata": {
        "id": "M3TVTQdDHrWl",
        "colab": {
          "base_uri": "https://localhost:8080/"
        },
        "outputId": "e98691b1-2287-4e26-ff9a-9e7a1297fd00"
      },
      "outputs": [
        {
          "output_type": "stream",
          "name": "stdout",
          "text": [
            "Tlatifatut tazkiyyah'amali\n"
          ]
        }
      ],
      "source": [
        "print (\"Tlatifatut tazkiyyah'amali\")"
      ]
    },
    {
      "cell_type": "code",
      "source": [
        "nama=\"Tlatifatut tazkiyyah'amali\"\n",
        "print(nama)"
      ],
      "metadata": {
        "colab": {
          "base_uri": "https://localhost:8080/"
        },
        "id": "oV6rIsTmDq_9",
        "outputId": "d4f26637-5ad0-4a2a-dc2f-9e0df1266759"
      },
      "execution_count": null,
      "outputs": [
        {
          "output_type": "stream",
          "name": "stdout",
          "text": [
            "Tlatifatut tazkiyyah'amali\n"
          ]
        }
      ]
    },
    {
      "cell_type": "code",
      "source": [
        "Usia=\"16\"\n",
        "print(Usia)"
      ],
      "metadata": {
        "colab": {
          "base_uri": "https://localhost:8080/"
        },
        "id": "wcqlbwtGD7cy",
        "outputId": "78fee73b-b5c1-4ff7-ce47-8cc5fa1ba84c"
      },
      "execution_count": null,
      "outputs": [
        {
          "output_type": "stream",
          "name": "stdout",
          "text": [
            "16\n"
          ]
        }
      ]
    },
    {
      "cell_type": "code",
      "source": [
        "mataPelajaranFavorit=\"MTK\"\n",
        "print(mataPelajaranFavorit)"
      ],
      "metadata": {
        "colab": {
          "base_uri": "https://localhost:8080/"
        },
        "id": "1zCDHcEBEK_t",
        "outputId": "c93a8840-5664-4c3d-da4d-5159de8546e1"
      },
      "execution_count": null,
      "outputs": [
        {
          "output_type": "stream",
          "name": "stdout",
          "text": [
            "MTK\n"
          ]
        }
      ]
    },
    {
      "cell_type": "code",
      "source": [
        "nama_panggilan_siswa=\"azki\"\n",
        "print(\"Nama panggilan siswa tersebut adalah\",nama_panggilan_siswa)"
      ],
      "metadata": {
        "colab": {
          "base_uri": "https://localhost:8080/"
        },
        "id": "0aIZnmFVFbuo",
        "outputId": "17fdc2ec-e42c-4905-937a-743c441df652"
      },
      "execution_count": null,
      "outputs": [
        {
          "output_type": "stream",
          "name": "stdout",
          "text": [
            "Nama panggilan siswa tersebut adalah azki\n"
          ]
        }
      ]
    },
    {
      "cell_type": "code",
      "source": [
        "print(f\"nama panggilan tersebut adalah{nama_panggilan_siswa}loh\")"
      ],
      "metadata": {
        "colab": {
          "base_uri": "https://localhost:8080/"
        },
        "id": "CcHZ-JOyG2it",
        "outputId": "9a486984-7f59-46c0-ccd1-509358b3bf26"
      },
      "execution_count": null,
      "outputs": [
        {
          "output_type": "stream",
          "name": "stdout",
          "text": [
            "nama panggilan tersebut adalahazkiloh\n"
          ]
        }
      ]
    },
    {
      "cell_type": "code",
      "source": [
        "nama=\"azki\"\n",
        "print(nama)"
      ],
      "metadata": {
        "colab": {
          "base_uri": "https://localhost:8080/"
        },
        "id": "z99jRgSoHZ20",
        "outputId": "17bf71c7-2133-4940-8859-659a880643e2"
      },
      "execution_count": null,
      "outputs": [
        {
          "output_type": "stream",
          "name": "stdout",
          "text": [
            "azki\n"
          ]
        }
      ]
    },
    {
      "cell_type": "code",
      "source": [
        "Usia=\"16\"\n",
        "print(Usia)"
      ],
      "metadata": {
        "colab": {
          "base_uri": "https://localhost:8080/"
        },
        "id": "auz0tg7pHoR8",
        "outputId": "9d6341aa-5e5f-428f-b42e-82b837e7b324"
      },
      "execution_count": null,
      "outputs": [
        {
          "output_type": "stream",
          "name": "stdout",
          "text": [
            "16\n"
          ]
        }
      ]
    },
    {
      "cell_type": "markdown",
      "source": [
        "#3 Menampilkan teks bebas dan nilai variabel"
      ],
      "metadata": {
        "id": "wRKRN8TwIOCz"
      }
    },
    {
      "cell_type": "code",
      "source": [
        "print(\"Halo perkenalkan nama saya\", nama,\"usia saya\",Usia,\"tahun.\")"
      ],
      "metadata": {
        "colab": {
          "base_uri": "https://localhost:8080/"
        },
        "id": "PEf_xq5eImBZ",
        "outputId": "fa053ff5-e4cd-4f20-c7c4-56a28e9794be"
      },
      "execution_count": null,
      "outputs": [
        {
          "output_type": "stream",
          "name": "stdout",
          "text": [
            "Halo perkenalkan nama saya azki usia saya 16 tahun.\n"
          ]
        }
      ]
    },
    {
      "cell_type": "code",
      "source": [
        "print(\"nama saya\"+nama+\".usia saya\"+\"tahun.\")"
      ],
      "metadata": {
        "colab": {
          "base_uri": "https://localhost:8080/"
        },
        "id": "2t46rT3yJmvT",
        "outputId": "fe717dfb-a709-416c-950c-97311284ce5f"
      },
      "execution_count": null,
      "outputs": [
        {
          "output_type": "stream",
          "name": "stdout",
          "text": [
            "nama sayaazki.usia sayatahun.\n"
          ]
        }
      ]
    },
    {
      "cell_type": "code",
      "source": [
        "nama_siswa_1=\"ridju\"\n",
        "nama_siswa_2=\"rafa\"\n",
        "print(nama_siswa_1)"
      ],
      "metadata": {
        "colab": {
          "base_uri": "https://localhost:8080/"
        },
        "id": "2XKBsUVIKn62",
        "outputId": "b2a059c9-eb08-4eaf-d6fd-668d82c67de6"
      },
      "execution_count": null,
      "outputs": [
        {
          "output_type": "stream",
          "name": "stdout",
          "text": [
            "ridju\n"
          ]
        }
      ]
    },
    {
      "cell_type": "code",
      "source": [
        "print(nama_siswa_1,nama_siswa_2)"
      ],
      "metadata": {
        "colab": {
          "base_uri": "https://localhost:8080/"
        },
        "id": "RyT3xVbeN0Z8",
        "outputId": "2950ad08-6427-4f55-b0f0-478a4d5e3f0c"
      },
      "execution_count": null,
      "outputs": [
        {
          "output_type": "stream",
          "name": "stdout",
          "text": [
            "ridju rafa\n"
          ]
        }
      ]
    },
    {
      "cell_type": "code",
      "source": [
        "print(nama_siswa_1,nama_siswa_2,nama_siswa_1,sep=\"*\")"
      ],
      "metadata": {
        "colab": {
          "base_uri": "https://localhost:8080/"
        },
        "id": "CQW8T9wKOkYT",
        "outputId": "66bb5942-d944-4c2a-e855-7102c2c80f24"
      },
      "execution_count": null,
      "outputs": [
        {
          "output_type": "stream",
          "name": "stdout",
          "text": [
            "ridju*rafa*ridju\n"
          ]
        }
      ]
    },
    {
      "cell_type": "code",
      "source": [
        "print(nama_siswa_1,end=\"*\")\n",
        "print(nama_siswa_2)"
      ],
      "metadata": {
        "colab": {
          "base_uri": "https://localhost:8080/"
        },
        "id": "gE7--IBvPXie",
        "outputId": "86ec210e-c59c-4e79-c4b3-6ff9769e6483"
      },
      "execution_count": null,
      "outputs": [
        {
          "output_type": "stream",
          "name": "stdout",
          "text": [
            "ridju*rafa\n"
          ]
        }
      ]
    }
  ]
}